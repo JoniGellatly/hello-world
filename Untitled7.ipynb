{
  "nbformat": 4,
  "nbformat_minor": 0,
  "metadata": {
    "colab": {
      "provenance": [],
      "authorship_tag": "ABX9TyPH/LxT2dPkb7WyhyZgJM2b",
      "include_colab_link": true
    },
    "kernelspec": {
      "name": "python3",
      "display_name": "Python 3"
    },
    "language_info": {
      "name": "python"
    }
  },
  "cells": [
    {
      "cell_type": "markdown",
      "metadata": {
        "id": "view-in-github",
        "colab_type": "text"
      },
      "source": [
        "<a href=\"https://colab.research.google.com/github/JoniGellatly/hello-world/blob/main/Untitled7.ipynb\" target=\"_parent\"><img src=\"https://colab.research.google.com/assets/colab-badge.svg\" alt=\"Open In Colab\"/></a>"
      ]
    },
    {
      "cell_type": "markdown",
      "source": [
        "#**Joni Gellatly** - 2013336\n",
        "\n",
        "\n",
        "###**CM3710 – Machine Learning and Artificial Intelligence**\n",
        "###**Coursework Specification Part 2**"
      ],
      "metadata": {
        "id": "L1lbItZT-zXP"
      }
    },
    {
      "cell_type": "markdown",
      "source": [
        "**Introduction**\n",
        "\n",
        "Due to changing my job I no longer have access to the data I intended to use. I have now selected a dataset available to the public from 'Kaggle' which is called 'Stroke Prediction Dataset' and available from https://www.kaggle.com/datasets/fedesoriano/stroke-prediction-dataset. The dataset has 12 attributes and 5110 rows. The data set can be used to predict a patients chances of a stoke based on various parameters. The attributes for the data set are as follows;\n",
        "\n",
        "1) id\n",
        "\n",
        "2) gender\n",
        "\n",
        "3) age\n",
        "\n",
        "4) hypertension\n",
        "\n",
        "5) heart_disease\n",
        "\n",
        "6) ever_married\n",
        "\n",
        "7) work_type\n",
        "\n",
        "8) Residence_type\n",
        "\n",
        "9) avg_glucose_level\n",
        "\n",
        "10) bmi\n",
        "\n",
        "11) smoking_status\n",
        "\n",
        "12) stroke\n",
        "\n",
        "\n",
        "\n",
        "**Dataset available from**\n",
        "\n",
        "\n",
        "https://www.kaggle.com/datasets/fedesoriano/stroke-prediction-dataset/download?datasetVersionNumber=1"
      ],
      "metadata": {
        "id": "W8096nrQn2i2"
      }
    },
    {
      "cell_type": "markdown",
      "source": [
        "**Load and Pre-processing of dataset**"
      ],
      "metadata": {
        "id": "NhItnbTS5XHY"
      }
    },
    {
      "cell_type": "code",
      "source": [
        "import pandas as pd #we will use pandas to view data in dataframes\n",
        "import io #io we use to load the data after uploading (as colab uses dictionaries to store uploaded files)\n",
        "from google.colab import files #finally, we import the files package from google.colab framework to be able to upload files\n",
        "\n",
        "uploaded = files.upload()"
      ],
      "metadata": {
        "colab": {
          "base_uri": "https://localhost:8080/",
          "height": 37
        },
        "id": "B0FI7LPExUAH",
        "outputId": "55d987be-1086-4c82-a6df-0d446574c471"
      },
      "execution_count": null,
      "outputs": [
        {
          "output_type": "display_data",
          "data": {
            "text/plain": [
              "<IPython.core.display.HTML object>"
            ],
            "text/html": [
              "\n",
              "     <input type=\"file\" id=\"files-cdca2e88-6bd8-42ef-a923-ff46b70dd528\" name=\"files[]\" multiple disabled\n",
              "        style=\"border:none\" />\n",
              "     <output id=\"result-cdca2e88-6bd8-42ef-a923-ff46b70dd528\">\n",
              "      Upload widget is only available when the cell has been executed in the\n",
              "      current browser session. Please rerun this cell to enable.\n",
              "      </output>\n",
              "      <script>// Copyright 2017 Google LLC\n",
              "//\n",
              "// Licensed under the Apache License, Version 2.0 (the \"License\");\n",
              "// you may not use this file except in compliance with the License.\n",
              "// You may obtain a copy of the License at\n",
              "//\n",
              "//      http://www.apache.org/licenses/LICENSE-2.0\n",
              "//\n",
              "// Unless required by applicable law or agreed to in writing, software\n",
              "// distributed under the License is distributed on an \"AS IS\" BASIS,\n",
              "// WITHOUT WARRANTIES OR CONDITIONS OF ANY KIND, either express or implied.\n",
              "// See the License for the specific language governing permissions and\n",
              "// limitations under the License.\n",
              "\n",
              "/**\n",
              " * @fileoverview Helpers for google.colab Python module.\n",
              " */\n",
              "(function(scope) {\n",
              "function span(text, styleAttributes = {}) {\n",
              "  const element = document.createElement('span');\n",
              "  element.textContent = text;\n",
              "  for (const key of Object.keys(styleAttributes)) {\n",
              "    element.style[key] = styleAttributes[key];\n",
              "  }\n",
              "  return element;\n",
              "}\n",
              "\n",
              "// Max number of bytes which will be uploaded at a time.\n",
              "const MAX_PAYLOAD_SIZE = 100 * 1024;\n",
              "\n",
              "function _uploadFiles(inputId, outputId) {\n",
              "  const steps = uploadFilesStep(inputId, outputId);\n",
              "  const outputElement = document.getElementById(outputId);\n",
              "  // Cache steps on the outputElement to make it available for the next call\n",
              "  // to uploadFilesContinue from Python.\n",
              "  outputElement.steps = steps;\n",
              "\n",
              "  return _uploadFilesContinue(outputId);\n",
              "}\n",
              "\n",
              "// This is roughly an async generator (not supported in the browser yet),\n",
              "// where there are multiple asynchronous steps and the Python side is going\n",
              "// to poll for completion of each step.\n",
              "// This uses a Promise to block the python side on completion of each step,\n",
              "// then passes the result of the previous step as the input to the next step.\n",
              "function _uploadFilesContinue(outputId) {\n",
              "  const outputElement = document.getElementById(outputId);\n",
              "  const steps = outputElement.steps;\n",
              "\n",
              "  const next = steps.next(outputElement.lastPromiseValue);\n",
              "  return Promise.resolve(next.value.promise).then((value) => {\n",
              "    // Cache the last promise value to make it available to the next\n",
              "    // step of the generator.\n",
              "    outputElement.lastPromiseValue = value;\n",
              "    return next.value.response;\n",
              "  });\n",
              "}\n",
              "\n",
              "/**\n",
              " * Generator function which is called between each async step of the upload\n",
              " * process.\n",
              " * @param {string} inputId Element ID of the input file picker element.\n",
              " * @param {string} outputId Element ID of the output display.\n",
              " * @return {!Iterable<!Object>} Iterable of next steps.\n",
              " */\n",
              "function* uploadFilesStep(inputId, outputId) {\n",
              "  const inputElement = document.getElementById(inputId);\n",
              "  inputElement.disabled = false;\n",
              "\n",
              "  const outputElement = document.getElementById(outputId);\n",
              "  outputElement.innerHTML = '';\n",
              "\n",
              "  const pickedPromise = new Promise((resolve) => {\n",
              "    inputElement.addEventListener('change', (e) => {\n",
              "      resolve(e.target.files);\n",
              "    });\n",
              "  });\n",
              "\n",
              "  const cancel = document.createElement('button');\n",
              "  inputElement.parentElement.appendChild(cancel);\n",
              "  cancel.textContent = 'Cancel upload';\n",
              "  const cancelPromise = new Promise((resolve) => {\n",
              "    cancel.onclick = () => {\n",
              "      resolve(null);\n",
              "    };\n",
              "  });\n",
              "\n",
              "  // Wait for the user to pick the files.\n",
              "  const files = yield {\n",
              "    promise: Promise.race([pickedPromise, cancelPromise]),\n",
              "    response: {\n",
              "      action: 'starting',\n",
              "    }\n",
              "  };\n",
              "\n",
              "  cancel.remove();\n",
              "\n",
              "  // Disable the input element since further picks are not allowed.\n",
              "  inputElement.disabled = true;\n",
              "\n",
              "  if (!files) {\n",
              "    return {\n",
              "      response: {\n",
              "        action: 'complete',\n",
              "      }\n",
              "    };\n",
              "  }\n",
              "\n",
              "  for (const file of files) {\n",
              "    const li = document.createElement('li');\n",
              "    li.append(span(file.name, {fontWeight: 'bold'}));\n",
              "    li.append(span(\n",
              "        `(${file.type || 'n/a'}) - ${file.size} bytes, ` +\n",
              "        `last modified: ${\n",
              "            file.lastModifiedDate ? file.lastModifiedDate.toLocaleDateString() :\n",
              "                                    'n/a'} - `));\n",
              "    const percent = span('0% done');\n",
              "    li.appendChild(percent);\n",
              "\n",
              "    outputElement.appendChild(li);\n",
              "\n",
              "    const fileDataPromise = new Promise((resolve) => {\n",
              "      const reader = new FileReader();\n",
              "      reader.onload = (e) => {\n",
              "        resolve(e.target.result);\n",
              "      };\n",
              "      reader.readAsArrayBuffer(file);\n",
              "    });\n",
              "    // Wait for the data to be ready.\n",
              "    let fileData = yield {\n",
              "      promise: fileDataPromise,\n",
              "      response: {\n",
              "        action: 'continue',\n",
              "      }\n",
              "    };\n",
              "\n",
              "    // Use a chunked sending to avoid message size limits. See b/62115660.\n",
              "    let position = 0;\n",
              "    do {\n",
              "      const length = Math.min(fileData.byteLength - position, MAX_PAYLOAD_SIZE);\n",
              "      const chunk = new Uint8Array(fileData, position, length);\n",
              "      position += length;\n",
              "\n",
              "      const base64 = btoa(String.fromCharCode.apply(null, chunk));\n",
              "      yield {\n",
              "        response: {\n",
              "          action: 'append',\n",
              "          file: file.name,\n",
              "          data: base64,\n",
              "        },\n",
              "      };\n",
              "\n",
              "      let percentDone = fileData.byteLength === 0 ?\n",
              "          100 :\n",
              "          Math.round((position / fileData.byteLength) * 100);\n",
              "      percent.textContent = `${percentDone}% done`;\n",
              "\n",
              "    } while (position < fileData.byteLength);\n",
              "  }\n",
              "\n",
              "  // All done.\n",
              "  yield {\n",
              "    response: {\n",
              "      action: 'complete',\n",
              "    }\n",
              "  };\n",
              "}\n",
              "\n",
              "scope.google = scope.google || {};\n",
              "scope.google.colab = scope.google.colab || {};\n",
              "scope.google.colab._files = {\n",
              "  _uploadFiles,\n",
              "  _uploadFilesContinue,\n",
              "};\n",
              "})(self);\n",
              "</script> "
            ]
          },
          "metadata": {}
        }
      ]
    },
    {
      "cell_type": "code",
      "source": [
        "import pandas as pd #import liabrary\n",
        "df = pd.read_csv('healthcare-dataset-stroke-data.csv') #read file\n",
        "df.head() #print top 5"
      ],
      "metadata": {
        "id": "OEOXV1l7ngjJ"
      },
      "execution_count": null,
      "outputs": []
    },
    {
      "cell_type": "markdown",
      "source": [
        "We can see the data has some blanks (NaN)  shown above against the bmi.  We will need to inverstigate this further.  Firstly we will check to see how many rows and columns the dataset has and to ensure matches what we expected which is 5110 rows and 12 columns."
      ],
      "metadata": {
        "id": "9pjK33Rk3-Jv"
      }
    },
    {
      "cell_type": "code",
      "execution_count": null,
      "metadata": {
        "id": "wBDZ4kvFeKrz"
      },
      "outputs": [],
      "source": [
        "df.shape #shows number rows and columns"
      ]
    },
    {
      "cell_type": "markdown",
      "source": [
        "We will now check to see if there are any blanks in the dataset which could cause issues when we carry out algorithms later."
      ],
      "metadata": {
        "id": "NjTXSfD-_kJE"
      }
    },
    {
      "cell_type": "code",
      "source": [
        "df.isna().sum() #identifies blanks within dataframe"
      ],
      "metadata": {
        "id": "erlznPBWuaAX"
      },
      "execution_count": null,
      "outputs": []
    },
    {
      "cell_type": "markdown",
      "source": [
        "We have identified 201 blanks against bmi. We can either replace the bmi with an average or remove from the dataframe I have chosen to remove the blanks."
      ],
      "metadata": {
        "id": "cwK9LRLOvhFB"
      }
    },
    {
      "cell_type": "code",
      "source": [
        "df = df.dropna() #removes blanks\n",
        "df.shape #shows how many rows and columns left after removing blanks"
      ],
      "metadata": {
        "id": "MLgGaraWtSEN"
      },
      "execution_count": null,
      "outputs": []
    },
    {
      "cell_type": "markdown",
      "source": [
        "We can see from above that 201 rows of data have succefully been removed.  We can view the dataframe and visually check the data against ID. 1 has been removed.  I will then check to see if there are any duplicate entries."
      ],
      "metadata": {
        "id": "ftWcSt0ZAFvx"
      }
    },
    {
      "cell_type": "code",
      "source": [
        "df"
      ],
      "metadata": {
        "id": "-6uqkWHptc5p"
      },
      "execution_count": null,
      "outputs": []
    },
    {
      "cell_type": "code",
      "source": [
        "df.duplicated().sum() #shows duplicates"
      ],
      "metadata": {
        "id": "PNZDan-ntYRH"
      },
      "execution_count": null,
      "outputs": []
    },
    {
      "cell_type": "markdown",
      "source": [
        "No duplicates showing so no need to remove.  We can now have a look at the data and see how many patients had a stroke (1) or if not(0).  We can see the majority did not have a stroke.  We can now implement some algorithms but firstly we will need to check the data types as they will need to be integers and drop some data we do not want to use."
      ],
      "metadata": {
        "id": "EsthRtxPnrkV"
      }
    },
    {
      "cell_type": "code",
      "source": [
        "stroke_count = df['stroke'].value_counts()\n",
        "stroke_count"
      ],
      "metadata": {
        "id": "0Kw7XtPaiesC"
      },
      "execution_count": null,
      "outputs": []
    },
    {
      "cell_type": "code",
      "source": [
        "gender_count = df['gender'].value_counts()\n",
        "gender_count"
      ],
      "metadata": {
        "id": "g_EwM5SsNxlf"
      },
      "execution_count": null,
      "outputs": []
    },
    {
      "cell_type": "code",
      "source": [
        "stroke = df[df['stroke'] == 0] ['stroke'].count()\n",
        "no_stroke = df[df['stroke'] == 1] ['stroke'].count()\n",
        "stroke,no_stroke\n"
      ],
      "metadata": {
        "id": "0OYcbiZSJwHM"
      },
      "execution_count": null,
      "outputs": []
    },
    {
      "cell_type": "code",
      "source": [
        "df.dtypes"
      ],
      "metadata": {
        "id": "1Kguc1uQH0gZ"
      },
      "execution_count": null,
      "outputs": []
    },
    {
      "cell_type": "code",
      "source": [
        "from pandas.plotting import scatter_matrix\n",
        "scatter_matrix(df, figsize= (12,8))"
      ],
      "metadata": {
        "id": "Mkm4iIJDasV-"
      },
      "execution_count": null,
      "outputs": []
    },
    {
      "cell_type": "code",
      "source": [
        "import seaborn as sns\n",
        "sns.histplot(df['stroke'])"
      ],
      "metadata": {
        "id": "YcMXQU3IcnYl"
      },
      "execution_count": null,
      "outputs": []
    },
    {
      "cell_type": "code",
      "source": [
        "import seaborn as sns\n",
        "sns.histplot(df['gender'])"
      ],
      "metadata": {
        "id": "Ju-uoTu8hbU-"
      },
      "execution_count": null,
      "outputs": []
    },
    {
      "cell_type": "code",
      "source": [
        "df['gender'] = df['gender'].replace({'Female': 1,'Male': 0, 'Other': -1})\n",
        "df"
      ],
      "metadata": {
        "id": "DJwkT1bfIXM5"
      },
      "execution_count": null,
      "outputs": []
    },
    {
      "cell_type": "code",
      "source": [
        "df_stroke = df['stroke']\n",
        "df_stroke"
      ],
      "metadata": {
        "id": "ERsvOTbGJGE-"
      },
      "execution_count": null,
      "outputs": []
    },
    {
      "cell_type": "markdown",
      "source": [
        "Implementing kNN in sci-kit learn"
      ],
      "metadata": {
        "id": "jj5_7ae8F9aa"
      }
    },
    {
      "cell_type": "code",
      "source": [
        "from sklearn.model_selection import StratifiedKFold #cross fold is sometimes called k-fold. Calling the stratified version ensures that classes have equal representation across folds\n",
        "from sklearn.metrics import accuracy_score #import an accuracy metric to tell us how well the model is doing"
      ],
      "metadata": {
        "id": "3VOyzEkOXYre"
      },
      "execution_count": null,
      "outputs": []
    },
    {
      "cell_type": "code",
      "source": [
        "x_train, x_test, y_train, y_test = x[train], x[test], y[train], y[test]"
      ],
      "metadata": {
        "id": "oYZCkwuiXY_x"
      },
      "execution_count": null,
      "outputs": []
    },
    {
      "cell_type": "code",
      "source": [],
      "metadata": {
        "id": "ZJ8sne6zEUo9"
      },
      "execution_count": null,
      "outputs": []
    },
    {
      "cell_type": "code",
      "source": [
        "\n",
        "\n",
        "acc_score = [] #create a list to store the accuracy values\n",
        "model = KNeighborsClassifier(n_neighbors=1, weights = 'distance') #instantiate the model\n",
        "\n",
        " #things can get a bit weird when inputting indexes to functions, so lets save them as variables\n",
        "  #print(train)\n",
        "  #print(test) #this will print the train and test indexes respectively, if you want to be sure they do not overlap\n",
        "\n",
        "  model.fit(x_train, y_train) #we then only fit the training data\n",
        "  predictions = model.predict(x_test) #and can predict on the test data\n",
        "  acc = accuracy_score(predictions, y_test) #we use the accuracy score we imported to give an idea how well the model is doing\n",
        "  acc_score.append(acc) #we can append it to our list\n",
        "\n",
        "print(acc_score) #wowza, looks ike it's pretty good!"
      ],
      "metadata": {
        "id": "wpn1bYJyCV5Q"
      },
      "execution_count": null,
      "outputs": []
    },
    {
      "cell_type": "markdown",
      "source": [
        "We can now visualise this."
      ],
      "metadata": {
        "id": "hpIeWg-EEVQ7"
      }
    }
  ]
}